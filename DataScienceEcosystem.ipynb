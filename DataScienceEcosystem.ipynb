{
 "cells": [
  {
   "cell_type": "markdown",
   "id": "f05a206c",
   "metadata": {},
   "source": [
    "# Data Science Tools and Ecosystem"
   ]
  },
  {
   "cell_type": "markdown",
   "id": "f60c526d",
   "metadata": {},
   "source": [
    "## In this notebook, Data Science Tools and Ecosystem are summarized."
   ]
  },
  {
   "cell_type": "markdown",
   "id": "0997e0e3",
   "metadata": {},
   "source": [
    "## __Objectives:__\n",
    "- List popular languages for data science.\n",
    "- Test formatting in Jupyter.\n",
    "- Create markdown and code cells."
   ]
  },
  {
   "cell_type": "markdown",
   "id": "8b24d903",
   "metadata": {},
   "source": [
    "## Some of the popular languages that data scientists use are:\n",
    "1. SciPy\n",
    "2. PyTorch\n",
    "3. Keras\n",
    "\n"
   ]
  },
  {
   "cell_type": "markdown",
   "id": "d5b9182a",
   "metadata": {},
   "source": [
    "### Create Data Science Tools Table\n",
    "\n",
    "| Data Science Tools |\n",
    "| --- |\n",
    "| Jupyter |\n",
    "| RStudio |\n",
    "| Anaconda |\n",
    "| Python |"
   ]
  },
  {
   "cell_type": "markdown",
   "id": "bededfae",
   "metadata": {},
   "source": [
    "### Below are a few examples of evaluating arithmetic expressions in Python\n"
   ]
  },
  {
   "cell_type": "code",
   "execution_count": 8,
   "id": "c0759bd0",
   "metadata": {},
   "outputs": [
    {
     "data": {
      "text/plain": [
       "17"
      ]
     },
     "execution_count": 8,
     "metadata": {},
     "output_type": "execute_result"
    }
   ],
   "source": [
    "# This is simple arithmetic expression to multiply then add integers\n",
    "(3*4)+5"
   ]
  },
  {
   "cell_type": "code",
   "execution_count": 9,
   "id": "fc08ea8e",
   "metadata": {},
   "outputs": [
    {
     "data": {
      "text/plain": [
       "3.3333333333333335"
      ]
     },
     "execution_count": 9,
     "metadata": {},
     "output_type": "execute_result"
    }
   ],
   "source": [
    "# This will convert 200 minutes to hours by dividing by 60\n",
    "200/60"
   ]
  },
  {
   "cell_type": "markdown",
   "id": "499cb304",
   "metadata": {},
   "source": [
    "## Author\n",
    "\n",
    "Sushil"
   ]
  },
  {
   "cell_type": "code",
   "execution_count": null,
   "id": "44a6cd7a",
   "metadata": {},
   "outputs": [],
   "source": []
  }
 ],
 "metadata": {
  "kernelspec": {
   "display_name": "Python 3 (ipykernel)",
   "language": "python",
   "name": "python3"
  },
  "language_info": {
   "codemirror_mode": {
    "name": "ipython",
    "version": 3
   },
   "file_extension": ".py",
   "mimetype": "text/x-python",
   "name": "python",
   "nbconvert_exporter": "python",
   "pygments_lexer": "ipython3",
   "version": "3.11.5"
  }
 },
 "nbformat": 4,
 "nbformat_minor": 5
}
